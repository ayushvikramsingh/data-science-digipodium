{
 "cells": [
  {
   "cell_type": "markdown",
   "metadata": {},
   "source": [
    "# for\n",
    " - step based\n",
    " - repetation a step n number\n",
    " - enumeration\n",
    " - traversing iterables\n",
    "\n",
    "#\n",
    " while\n",
    "- condition based loop\n",
    " - \n"
   ]
  },
  {
   "cell_type": "code",
   "execution_count": 1,
   "metadata": {},
   "outputs": [
    {
     "data": {
      "text/plain": [
       "range(1, 100)"
      ]
     },
     "execution_count": 1,
     "metadata": {},
     "output_type": "execute_result"
    }
   ],
   "source": [
    "range(1,100)"
   ]
  },
  {
   "cell_type": "code",
   "execution_count": 3,
   "metadata": {},
   "outputs": [
    {
     "name": "stdout",
     "output_type": "stream",
     "text": [
      "0 1 2 3 4 5 6 7 8 9 "
     ]
    }
   ],
   "source": [
    "for item in range (10):\n",
    "    print (item, end=\" \")"
   ]
  },
  {
   "cell_type": "code",
   "execution_count": 6,
   "metadata": {},
   "outputs": [
    {
     "name": "stdout",
     "output_type": "stream",
     "text": [
      "-10 -9 -8 -7 -6 -5 -4 -3 -2 -1 0 1 2 3 4 5 6 7 8 9 10 "
     ]
    }
   ],
   "source": [
    "for i in range (-10, 11):\n",
    "    print(i, end=' ')"
   ]
  },
  {
   "cell_type": "code",
   "execution_count": 7,
   "metadata": {},
   "outputs": [
    {
     "name": "stdout",
     "output_type": "stream",
     "text": [
      "-10 -8 -6 -4 -2 0 2 4 6 8 10 "
     ]
    }
   ],
   "source": [
    "for i in range (-10, 11 , 2):\n",
    "    print(i, end=' ')"
   ]
  },
  {
   "cell_type": "code",
   "execution_count": 8,
   "metadata": {},
   "outputs": [
    {
     "name": "stdout",
     "output_type": "stream",
     "text": [
      "15 14 13 12 11 10 9 8 7 6 5 4 3 2 1 "
     ]
    }
   ],
   "source": [
    "for i in range (15 ,0, -1):\n",
    "    print(i, end=' ')"
   ]
  },
  {
   "cell_type": "code",
   "execution_count": 10,
   "metadata": {},
   "outputs": [
    {
     "name": "stdout",
     "output_type": "stream",
     "text": [
      "2 4 6 8 10 12 14 16 18 20 22 24 26 28 30 32 34 36 38 40 42 44 46 48 50 52 54 56 58 60 62 64 66 68 70 72 74 76 78 80 82 84 86 88 90 92 94 96 98 "
     ]
    }
   ],
   "source": [
    "for i in range (2, 100 , 2):\n",
    "    print(i, end=' ')"
   ]
  },
  {
   "cell_type": "code",
   "execution_count": 12,
   "metadata": {},
   "outputs": [
    {
     "name": "stdout",
     "output_type": "stream",
     "text": [
      "1 3 5 7 9 11 13 15 17 19 21 23 25 27 29 31 33 35 37 39 41 43 45 47 49 51 53 55 57 59 61 63 65 67 69 71 73 75 77 79 81 83 85 87 89 91 93 95 97 99 "
     ]
    }
   ],
   "source": [
    "for i in range (1, 100 , 2):\n",
    "    print(i, end=' ')"
   ]
  },
  {
   "cell_type": "code",
   "execution_count": 16,
   "metadata": {},
   "outputs": [
    {
     "name": "stdout",
     "output_type": "stream",
     "text": [
      "hello\n",
      "hello\n",
      "hello\n",
      "hello\n",
      "hello\n"
     ]
    }
   ],
   "source": [
    "for _ in range(5):\n",
    " print(\"hello\")"
   ]
  },
  {
   "cell_type": "code",
   "execution_count": 17,
   "metadata": {},
   "outputs": [],
   "source": [
    "name = \"albert silvador\"\n",
    "words = ['hi',\"hello\",\"Aloha\",\"hola\"] \n",
    "colors = ('red','green','blue')    \n",
    "numbers = {1,2,5,6,7,23,12,21,25}  \n",
    "\n"
   ]
  },
  {
   "cell_type": "code",
   "execution_count": 21,
   "metadata": {},
   "outputs": [
    {
     "name": "stdout",
     "output_type": "stream",
     "text": [
      "a l b e r t   s i l v a d o r \n",
      "hi hello Aloha hola \n",
      "red green blue \n",
      "1 2 5 6 7 12 21 23 25 "
     ]
    }
   ],
   "source": [
    "for char in name:\n",
    "    print(char, end=' ')\n",
    "print()\n",
    "for word in words:\n",
    "    print(word, end=' ')\n",
    "print()\n",
    "for c in colors:\n",
    "    print(c, end=' ')\n",
    "print()\n",
    "for i in numbers:\n",
    "    print(i, end=' ')"
   ]
  },
  {
   "cell_type": "code",
   "execution_count": 23,
   "metadata": {},
   "outputs": [
    {
     "name": "stdout",
     "output_type": "stream",
     "text": [
      "0 harsh\n",
      "1 nisahnt\n",
      "2 aman\n",
      "3 kratagya\n",
      "4 ayush\n",
      "5 natasha\n",
      "6 mahek\n",
      "7 akash\n",
      "8 krishna\n"
     ]
    }
   ],
   "source": [
    "names = ['harsh','nisahnt','aman','kratagya','ayush','natasha','mahek','akash','krishna']\n",
    "for idx, value in enumerate(names):\n",
    "    print(idx ,value)"
   ]
  },
  {
   "cell_type": "code",
   "execution_count": 24,
   "metadata": {},
   "outputs": [
    {
     "name": "stdout",
     "output_type": "stream",
     "text": [
      "harsh srivastav\n",
      "nisahnt shukla\n",
      "aman raza\n",
      "kratagya jaiswal\n",
      "ayush singh\n",
      "natasha kanaujia\n",
      "mahek singhal\n",
      "akash gupta\n",
      "krishna aggrawal\n"
     ]
    }
   ],
   "source": [
    "surnames = ['srivastav','shukla','raza','jaiswal','singh','kanaujia','singhal','gupta','aggrawal']\n",
    "\n",
    "for fname , lname , in zip(names,surnames):\n",
    "    print(fname, lname)\n",
    "    "
   ]
  },
  {
   "cell_type": "code",
   "execution_count": 25,
   "metadata": {},
   "outputs": [
    {
     "name": "stdout",
     "output_type": "stream",
     "text": [
      "1 2 3 4 5 6 6 7 "
     ]
    }
   ],
   "source": [
    "x = [1,2,3,0,4,5,0,6,0,6,7]\n",
    "for i in x:\n",
    "    if i ==0:\n",
    "        continue\n",
    "    print(i , end =' ')"
   ]
  },
  {
   "cell_type": "code",
   "execution_count": 26,
   "metadata": {},
   "outputs": [
    {
     "name": "stdout",
     "output_type": "stream",
     "text": [
      "1 2 3 "
     ]
    }
   ],
   "source": [
    "for i in x:\n",
    "    if i == 0:\n",
    "        break\n",
    "    print(i , end= \" \")"
   ]
  },
  {
   "cell_type": "code",
   "execution_count": 27,
   "metadata": {},
   "outputs": [],
   "source": [
    "x = []\n",
    "for i in x:\n",
    "    print(i, end =\" \")"
   ]
  },
  {
   "cell_type": "markdown",
   "metadata": {},
   "source": [
    "# for - else\n",
    "\n"
   ]
  },
  {
   "cell_type": "code",
   "execution_count": 29,
   "metadata": {},
   "outputs": [
    {
     "name": "stdout",
     "output_type": "stream",
     "text": [
      "Hello ayush\n",
      "Hello ran\n",
      "Hello tytry\n",
      "Hello teru\n",
      "Hello ty\n",
      "well done\n"
     ]
    }
   ],
   "source": [
    "for i in range(5):\n",
    "    name = input(\"enter name of the person:\")\n",
    "    if name:\n",
    "        print(f\"Hello {name}\")\n",
    "    else:\n",
    "        break\n",
    "else:\n",
    "    print(\"well done\")\n",
    "  \n"
   ]
  },
  {
   "cell_type": "code",
   "execution_count": 30,
   "metadata": {},
   "outputs": [
    {
     "name": "stdout",
     "output_type": "stream",
     "text": [
      "0\n",
      "10\n",
      "20\n",
      "30\n",
      "40\n",
      "50\n",
      "60\n",
      "70\n",
      "80\n",
      "90\n"
     ]
    }
   ],
   "source": [
    "n = 0\n",
    "while n < 100:\n",
    "    print(n)\n",
    "    n += 10"
   ]
  },
  {
   "cell_type": "code",
   "execution_count": 32,
   "metadata": {},
   "outputs": [
    {
     "name": "stdout",
     "output_type": "stream",
     "text": [
      "1\n"
     ]
    }
   ],
   "source": [
    "while True:\n",
    "    num = int(input(\"enter a number grater than 100:\"))\n",
    "    if num>100:\n",
    "        print(f'{num}')\n",
    "    else:\n",
    "        print(f'{num}')\n",
    "        break "
   ]
  }
 ],
 "metadata": {
  "kernelspec": {
   "display_name": "base",
   "language": "python",
   "name": "python3"
  },
  "language_info": {
   "codemirror_mode": {
    "name": "ipython",
    "version": 3
   },
   "file_extension": ".py",
   "mimetype": "text/x-python",
   "name": "python",
   "nbconvert_exporter": "python",
   "pygments_lexer": "ipython3",
   "version": "3.11.4"
  }
 },
 "nbformat": 4,
 "nbformat_minor": 2
}
