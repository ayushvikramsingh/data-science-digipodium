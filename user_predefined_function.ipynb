{
 "cells": [
  {
   "cell_type": "markdown",
   "metadata": {},
   "source": [
    "# user defined function\n",
    "-> on the basics of signature function cna be divided into\n",
    "1. no arrugument no return type\n",
    "2. no arrugument with return type\n",
    "3. with arrugument with return type\n",
    "4. with arrugument no return type\n",
    "5. Lambada function "
   ]
  },
  {
   "cell_type": "markdown",
   "metadata": {},
   "source": [
    "*conversion for making a function \n",
    "- function name should be in a lower case\n",
    "- function never take input from user\n",
    "- dont use print function to dispaly result from func, prefer, returing value\n",
    "- function must be defined before calling \n",
    "- function should be call after they have been defined to actually exceute them"
   ]
  },
  {
   "cell_type": "markdown",
   "metadata": {},
   "source": [
    "syntax \n",
    "def func_name([param]):\n",
    "'''\n",
    "doctstring\n",
    "'''\n",
    " body of function \n",
    " [return statement]"
   ]
  },
  {
   "cell_type": "code",
   "execution_count": 10,
   "metadata": {},
   "outputs": [],
   "source": [
    "def welcome():\n",
    "    print('welcome to python functions!')"
   ]
  },
  {
   "cell_type": "code",
   "execution_count": 11,
   "metadata": {},
   "outputs": [
    {
     "name": "stdout",
     "output_type": "stream",
     "text": [
      "welcome to python functions!\n"
     ]
    }
   ],
   "source": [
    "welcome()"
   ]
  },
  {
   "cell_type": "code",
   "execution_count": 12,
   "metadata": {},
   "outputs": [
    {
     "name": "stdout",
     "output_type": "stream",
     "text": [
      "welcome to python functions!\n",
      "welcome to python functions!\n",
      "welcome to python functions!\n"
     ]
    }
   ],
   "source": [
    "for i in range(3):\n",
    "    welcome()"
   ]
  },
  {
   "cell_type": "code",
   "execution_count": 13,
   "metadata": {},
   "outputs": [],
   "source": [
    "# function returning value \n",
    "def get_random_letter():\n",
    "    import random \n",
    "    code = random.randint(0 , 256)\n",
    "    return chr(code)"
   ]
  },
  {
   "cell_type": "code",
   "execution_count": 14,
   "metadata": {},
   "outputs": [],
   "source": [
    "def get_random_chinese_letter():\n",
    "    import random \n",
    "    code = random.randint(0x4e00 , 0x9ff)\n",
    "    return chr(code)"
   ]
  },
  {
   "cell_type": "code",
   "execution_count": 15,
   "metadata": {},
   "outputs": [
    {
     "name": "stdout",
     "output_type": "stream",
     "text": [
      "\u0013\n",
      "ö\n",
      "\n",
      "R\n"
     ]
    }
   ],
   "source": [
    "print(get_random_letter())\n",
    "print(get_random_letter())\n",
    "print(get_random_letter())\n",
    "print(get_random_letter())"
   ]
  },
  {
   "cell_type": "code",
   "execution_count": 16,
   "metadata": {},
   "outputs": [
    {
     "name": "stdout",
     "output_type": "stream",
     "text": [
      " 1 F \n",
      " \u0015 \u001c Á ®  "
     ]
    }
   ],
   "source": [
    "for i in range(10):\n",
    " print(get_random_letter(), end=\" \")"
   ]
  },
  {
   "cell_type": "code",
   "execution_count": 17,
   "metadata": {},
   "outputs": [
    {
     "ename": "ValueError",
     "evalue": "empty range for randrange() (19968, 2560, -17408)",
     "output_type": "error",
     "traceback": [
      "\u001b[1;31m---------------------------------------------------------------------------\u001b[0m",
      "\u001b[1;31mValueError\u001b[0m                                Traceback (most recent call last)",
      "\u001b[1;32mc:\\Users\\ayush\\Documents\\data science digipodium\\user_predefined_function.ipynb Cell 11\u001b[0m line \u001b[0;36m1\n\u001b[1;32m----> <a href='vscode-notebook-cell:/c%3A/Users/ayush/Documents/data%20science%20digipodium/user_predefined_function.ipynb#X13sZmlsZQ%3D%3D?line=0'>1</a>\u001b[0m get_random_chinese_letter()\n",
      "\u001b[1;32mc:\\Users\\ayush\\Documents\\data science digipodium\\user_predefined_function.ipynb Cell 11\u001b[0m line \u001b[0;36m3\n\u001b[0;32m      <a href='vscode-notebook-cell:/c%3A/Users/ayush/Documents/data%20science%20digipodium/user_predefined_function.ipynb#X13sZmlsZQ%3D%3D?line=0'>1</a>\u001b[0m \u001b[39mdef\u001b[39;00m \u001b[39mget_random_chinese_letter\u001b[39m():\n\u001b[0;32m      <a href='vscode-notebook-cell:/c%3A/Users/ayush/Documents/data%20science%20digipodium/user_predefined_function.ipynb#X13sZmlsZQ%3D%3D?line=1'>2</a>\u001b[0m     \u001b[39mimport\u001b[39;00m \u001b[39mrandom\u001b[39;00m \n\u001b[1;32m----> <a href='vscode-notebook-cell:/c%3A/Users/ayush/Documents/data%20science%20digipodium/user_predefined_function.ipynb#X13sZmlsZQ%3D%3D?line=2'>3</a>\u001b[0m     code \u001b[39m=\u001b[39m random\u001b[39m.\u001b[39mrandint(\u001b[39m0x4e00\u001b[39m , \u001b[39m0x9ff\u001b[39m)\n\u001b[0;32m      <a href='vscode-notebook-cell:/c%3A/Users/ayush/Documents/data%20science%20digipodium/user_predefined_function.ipynb#X13sZmlsZQ%3D%3D?line=3'>4</a>\u001b[0m     \u001b[39mreturn\u001b[39;00m \u001b[39mchr\u001b[39m(code)\n",
      "File \u001b[1;32mc:\\Users\\ayush\\miniconda3\\Lib\\random.py:362\u001b[0m, in \u001b[0;36mRandom.randint\u001b[1;34m(self, a, b)\u001b[0m\n\u001b[0;32m    358\u001b[0m \u001b[39mdef\u001b[39;00m \u001b[39mrandint\u001b[39m(\u001b[39mself\u001b[39m, a, b):\n\u001b[0;32m    359\u001b[0m \u001b[39m    \u001b[39m\u001b[39m\"\"\"Return random integer in range [a, b], including both end points.\u001b[39;00m\n\u001b[0;32m    360\u001b[0m \u001b[39m    \"\"\"\u001b[39;00m\n\u001b[1;32m--> 362\u001b[0m     \u001b[39mreturn\u001b[39;00m \u001b[39mself\u001b[39m\u001b[39m.\u001b[39mrandrange(a, b\u001b[39m+\u001b[39m\u001b[39m1\u001b[39m)\n",
      "File \u001b[1;32mc:\\Users\\ayush\\miniconda3\\Lib\\random.py:345\u001b[0m, in \u001b[0;36mRandom.randrange\u001b[1;34m(self, start, stop, step)\u001b[0m\n\u001b[0;32m    343\u001b[0m     \u001b[39mif\u001b[39;00m width \u001b[39m>\u001b[39m \u001b[39m0\u001b[39m:\n\u001b[0;32m    344\u001b[0m         \u001b[39mreturn\u001b[39;00m istart \u001b[39m+\u001b[39m \u001b[39mself\u001b[39m\u001b[39m.\u001b[39m_randbelow(width)\n\u001b[1;32m--> 345\u001b[0m     \u001b[39mraise\u001b[39;00m \u001b[39mValueError\u001b[39;00m(\u001b[39m\"\u001b[39m\u001b[39mempty range for randrange() (\u001b[39m\u001b[39m%d\u001b[39;00m\u001b[39m, \u001b[39m\u001b[39m%d\u001b[39;00m\u001b[39m, \u001b[39m\u001b[39m%d\u001b[39;00m\u001b[39m)\u001b[39m\u001b[39m\"\u001b[39m \u001b[39m%\u001b[39m (istart, istop, width))\n\u001b[0;32m    347\u001b[0m \u001b[39m# Non-unit step argument supplied.\u001b[39;00m\n\u001b[0;32m    348\u001b[0m \u001b[39mif\u001b[39;00m istep \u001b[39m>\u001b[39m \u001b[39m0\u001b[39m:\n",
      "\u001b[1;31mValueError\u001b[0m: empty range for randrange() (19968, 2560, -17408)"
     ]
    }
   ],
   "source": [
    "\n",
    " get_random_chinese_letter()"
   ]
  },
  {
   "cell_type": "code",
   "execution_count": null,
   "metadata": {},
   "outputs": [],
   "source": [
    "def simple_interest(p,r,t):\n",
    "    return p*r*t/100"
   ]
  },
  {
   "cell_type": "code",
   "execution_count": null,
   "metadata": {},
   "outputs": [
    {
     "name": "stdout",
     "output_type": "stream",
     "text": [
      "10127.999999999998\n"
     ]
    }
   ],
   "source": [
    "ans = simple_interest( 120000 , 2.11 ,4)\n",
    "print(ans)"
   ]
  },
  {
   "cell_type": "code",
   "execution_count": null,
   "metadata": {},
   "outputs": [
    {
     "ename": "NameError",
     "evalue": "name 'simple_interest' is not defined",
     "output_type": "error",
     "traceback": [
      "\u001b[1;31m---------------------------------------------------------------------------\u001b[0m",
      "\u001b[1;31mNameError\u001b[0m                                 Traceback (most recent call last)",
      "\u001b[1;32mc:\\Users\\ayush\\Documents\\data science digipodium\\user_predefined_function.ipynb Cell 14\u001b[0m line \u001b[0;36m1\n\u001b[1;32m----> <a href='vscode-notebook-cell:/c%3A/Users/ayush/Documents/data%20science%20digipodium/user_predefined_function.ipynb#X16sZmlsZQ%3D%3D?line=0'>1</a>\u001b[0m simple_interest( p\u001b[39m=\u001b[39m\u001b[39m150000\u001b[39m , r\u001b[39m=\u001b[39m\u001b[39m1.56\u001b[39m ,t\u001b[39m=\u001b[39m\u001b[39m10\u001b[39m)\n",
      "\u001b[1;31mNameError\u001b[0m: name 'simple_interest' is not defined"
     ]
    }
   ],
   "source": [
    "simple_interest( p=150000 , r=1.56 ,t=10)\n"
   ]
  },
  {
   "cell_type": "code",
   "execution_count": 23,
   "metadata": {},
   "outputs": [
    {
     "data": {
      "text/plain": [
       "[3, 4, 5, 6, 7, 8, 9, 10, 11]"
      ]
     },
     "execution_count": 23,
     "metadata": {},
     "output_type": "execute_result"
    }
   ],
   "source": [
    "x=[1,2,3,4,5,6,7,8,9]\n",
    "y=(i+2 for i in x)\n",
    "list(y)\n"
   ]
  },
  {
   "cell_type": "code",
   "execution_count": 24,
   "metadata": {},
   "outputs": [
    {
     "name": "stdout",
     "output_type": "stream",
     "text": [
      "[1, 23, 12, 31, 2, 12, 31, 34]\n",
      "[3, 25, 14, 33, 4, 14, 33, 36]\n"
     ]
    }
   ],
   "source": [
    "x =[1,23,12,31,2,12,31,34]\n",
    "xnew = list(map(lambda i: i+2,x))\n",
    "print(x)\n",
    "print(xnew)"
   ]
  },
  {
   "cell_type": "code",
   "execution_count": 27,
   "metadata": {},
   "outputs": [
    {
     "name": "stdout",
     "output_type": "stream",
     "text": [
      "[4, 7, 15, 23]\n",
      "[4, 7, 15, 23]\n"
     ]
    }
   ],
   "source": [
    "a = [1,2,5,11]\n",
    "b = [3,5,10,12]\n",
    "c= [i+j for i,j in zip(a,b)]\n",
    "cnew = list(map(lambda i,j : i+j,a,b))\n",
    "print(c)\n",
    "print(cnew)"
   ]
  },
  {
   "cell_type": "code",
   "execution_count": 33,
   "metadata": {},
   "outputs": [
    {
     "name": "stdout",
     "output_type": "stream",
     "text": [
      "1,2,3,4,5,6,7 <class 'str'>\n",
      "[1, 2, 3, 4, 5, 6, 7] <class 'list'>\n"
     ]
    }
   ],
   "source": [
    "numbers = input(\"enter the numbers seperated by comma:\")\n",
    "print(numbers, type(numbers))\n",
    "numbers = list(map(int,numbers.split(',')))\n",
    "print(numbers, type(numbers))\n",
    "\n"
   ]
  },
  {
   "cell_type": "code",
   "execution_count": 41,
   "metadata": {},
   "outputs": [],
   "source": [
    "names = [\n",
    "    'Clerk Kent',\n",
    "    'Bruce Wayne',\n",
    "    'Hal Jordan'\n",
    "]\n"
   ]
  },
  {
   "cell_type": "code",
   "execution_count": 42,
   "metadata": {},
   "outputs": [
    {
     "name": "stdout",
     "output_type": "stream",
     "text": [
      "['clerk', 'bruce', 'hal']\n"
     ]
    }
   ],
   "source": [
    "fnames = list(map(lambda i:i.split()[0].lower(),names))\n",
    "print(fnames)"
   ]
  },
  {
   "cell_type": "code",
   "execution_count": 43,
   "metadata": {},
   "outputs": [],
   "source": [
    "data = [[12,5],[3,5],[2,2]]\n"
   ]
  },
  {
   "cell_type": "code",
   "execution_count": 45,
   "metadata": {},
   "outputs": [
    {
     "name": "stdout",
     "output_type": "stream",
     "text": [
      "(13.0, 5.830951894845301, 2.8284271247461903)\n"
     ]
    }
   ],
   "source": [
    "from math import hypot\n",
    "ans = tuple(map(lambda i: hypot(i[0], i[1]),data))\n",
    "print(ans)\n"
   ]
  },
  {
   "cell_type": "code",
   "execution_count": 46,
   "metadata": {},
   "outputs": [
    {
     "name": "stdout",
     "output_type": "stream",
     "text": [
      "['cba', 'fed', 'ihg']\n"
     ]
    }
   ],
   "source": [
    "def apna_func(v):\n",
    "    return v[::-1]\n",
    "data = ['abc' ,'def','ghi']\n",
    "rev_data= list(map(apna_func,data))\n",
    "print(rev_data)"
   ]
  },
  {
   "cell_type": "code",
   "execution_count": 48,
   "metadata": {},
   "outputs": [
    {
     "data": {
      "text/plain": [
       "['Clerk Kent', 'Bruce Wayne']"
      ]
     },
     "execution_count": 48,
     "metadata": {},
     "output_type": "execute_result"
    }
   ],
   "source": [
    "list(filter(lambda i: i>10 , x))\n",
    "list(filter(lambda i: \"e\" in i , names))"
   ]
  }
 ],
 "metadata": {
  "kernelspec": {
   "display_name": "base",
   "language": "python",
   "name": "python3"
  },
  "language_info": {
   "codemirror_mode": {
    "name": "ipython",
    "version": 3
   },
   "file_extension": ".py",
   "mimetype": "text/x-python",
   "name": "python",
   "nbconvert_exporter": "python",
   "pygments_lexer": "ipython3",
   "version": "3.11.4"
  }
 },
 "nbformat": 4,
 "nbformat_minor": 2
}
