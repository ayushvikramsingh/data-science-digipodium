{
 "cells": [
  {
   "cell_type": "markdown",
   "metadata": {},
   "source": [
    "*Condition\n",
    "- if condition\n",
    "- if -else condition\n",
    "- if-elif - else ladder \n",
    "- nested condition\n",
    "- match case\n",
    "\n",
    "*conditonal operator and logical operator\n",
    ">,<,>=,<=,==,!=>\n",
    "and or not "
   ]
  },
  {
   "cell_type": "code",
   "execution_count": 1,
   "metadata": {},
   "outputs": [
    {
     "name": "stdout",
     "output_type": "stream",
     "text": [
      "yes\n",
      "hello\n",
      "end\n"
     ]
    }
   ],
   "source": [
    "x = 10\n",
    "if x > 5:\n",
    "    print('yes')\n",
    "    print('hello')\n",
    "    print('end')"
   ]
  },
  {
   "cell_type": "code",
   "execution_count": 2,
   "metadata": {},
   "outputs": [
    {
     "name": "stdout",
     "output_type": "stream",
     "text": [
      "simple intrest : 0.08\n"
     ]
    }
   ],
   "source": [
    "p = int(input(\"enter the principle\"))\n",
    "r = int(input(\"enter the rate\"))\n",
    "t = int(input(\"enter the time\"))\n",
    "si = p*r*t/100\n",
    "print(f'simple intrest : {si}')\n",
    "\n",
    "\n"
   ]
  },
  {
   "cell_type": "code",
   "execution_count": 3,
   "metadata": {},
   "outputs": [
    {
     "name": "stdout",
     "output_type": "stream",
     "text": [
      "simple intrest : 0.16\n"
     ]
    }
   ],
   "source": [
    "p = int(input(\"enter the principle\"))\n",
    "t = int(input(\"enter the time\"))\n",
    "if p >= 15000:\n",
    "    r =3\n",
    "else:\n",
    "    r = 4\n",
    "si = p*r*t/100\n",
    "print(f'simple intrest : {si}')\n"
   ]
  },
  {
   "cell_type": "code",
   "execution_count": 4,
   "metadata": {},
   "outputs": [
    {
     "name": "stdout",
     "output_type": "stream",
     "text": [
      "x is a greater than 20\n",
      "x is a greater than -20\n"
     ]
    }
   ],
   "source": [
    "x = 100\n",
    "if x > 20:\n",
    "    print(\"x is a greater than 20\")\n",
    "if x > -20:\n",
    "    print(\"x is a greater than -20\")"
   ]
  },
  {
   "cell_type": "markdown",
   "metadata": {},
   "source": [
    "if elif (related condition) (conditional Ladder)\n"
   ]
  },
  {
   "cell_type": "code",
   "execution_count": 5,
   "metadata": {},
   "outputs": [
    {
     "name": "stdout",
     "output_type": "stream",
     "text": [
      "a+b is a graeter than 5\n"
     ]
    }
   ],
   "source": [
    "a, b = 2 ,5\n",
    "if a+b > 10:\n",
    "    print(\"a+b is a graeter than 10\")\n",
    "elif a+b>5:\n",
    "    print(\"a+b is a graeter than 5\")\n",
    "elif a+b>0:\n",
    "    print(\"a+b is a graeter than 0\")\n",
    "elif a>10:\n",
    "    print(\"a+b is a graeter than 10\")"
   ]
  },
  {
   "cell_type": "code",
   "execution_count": 6,
   "metadata": {},
   "outputs": [
    {
     "name": "stdout",
     "output_type": "stream",
     "text": [
      "total salary: 2\n"
     ]
    }
   ],
   "source": [
    "bs = int(input(\"enter the basic salary\"))\n",
    "if bs > 25000:\n",
    "    hra = 30*bs/100\n",
    "    da =  95*bs/100\n",
    "elif bs > 20000:\n",
    "    hra = 25*bs/100\n",
    "    da =  90*bs/100\n",
    "elif bs > 15000:\n",
    "    hra = 20*bs/100\n",
    "    da =  80*bs/100\n",
    "else:\n",
    "    da, hra = 0,0\n",
    "total = bs+da+hra\n",
    "print(f'total salary: {total}')\n",
    "\n",
    "\n",
    "\n",
    "\n",
    "\n",
    "\n"
   ]
  },
  {
   "cell_type": "code",
   "execution_count": 7,
   "metadata": {},
   "outputs": [
    {
     "name": "stdout",
     "output_type": "stream",
     "text": [
      "i don't know you\n"
     ]
    }
   ],
   "source": [
    "name = input(\"enter your name:\")\n",
    "match (name):\n",
    "    case \"ajay\":\n",
    "        print(\"welcome Mr. Ajay\")\n",
    "    case \"anuj\" | \"vijay\":\n",
    "        print(\"you are caters \")\n",
    "    case \"rahul\":\n",
    "        print(\"you are the manager\")\n",
    "    case \"ashish\":\n",
    "        print(\"you are not allowed\")\n",
    "    case _:\n",
    "        print(\"i don't know you\")\n",
    "    \n",
    "\n"
   ]
  },
  {
   "cell_type": "code",
   "execution_count": 11,
   "metadata": {},
   "outputs": [
    {
     "name": "stdout",
     "output_type": "stream",
     "text": [
      "invalid password\n"
     ]
    }
   ],
   "source": [
    "username = input(\"enter your username:\")\n",
    "password = input(\"enter your password\")\n",
    "\n",
    "if len(username)>0:\n",
    "    if len(password) > 0:\n",
    "        if username == \"ayush\":\n",
    "            if password == 'admin':\n",
    "             print(\"welcome Ayush\")\n",
    "            else:\n",
    "             print(\"invalid password\")\n",
    "        else:\n",
    "           print(\"invalid passwprd\")\n",
    "    else:\n",
    "       print(\"password is required\")\n",
    "else:\n",
    "   print(\"username is reqired\")\n",
    "\n",
    "   \n",
    "     \n",
    "            \n",
    "    "
   ]
  },
  {
   "cell_type": "markdown",
   "metadata": {},
   "source": [
    "ternary  conditionally operator \n",
    "<expr1> if <condition> else <expr2>"
   ]
  },
  {
   "cell_type": "code",
   "execution_count": 9,
   "metadata": {},
   "outputs": [
    {
     "name": "stdout",
     "output_type": "stream",
     "text": [
      "name ok\n"
     ]
    }
   ],
   "source": [
    "name = input(\"enter your name\")\n",
    "print(\"name too big\" if len(name) > 10 else \"name ok\")"
   ]
  },
  {
   "cell_type": "code",
   "execution_count": 10,
   "metadata": {},
   "outputs": [
    {
     "name": "stdout",
     "output_type": "stream",
     "text": [
      "name ok\n"
     ]
    }
   ],
   "source": [
    "if len(name) > 10:\n",
    "    print(\"name too big\")\n",
    "else:\n",
    "    print(\"name ok\")"
   ]
  },
  {
   "cell_type": "code",
   "execution_count": null,
   "metadata": {},
   "outputs": [],
   "source": []
  }
 ],
 "metadata": {
  "kernelspec": {
   "display_name": "base",
   "language": "python",
   "name": "python3"
  },
  "language_info": {
   "codemirror_mode": {
    "name": "ipython",
    "version": 3
   },
   "file_extension": ".py",
   "mimetype": "text/x-python",
   "name": "python",
   "nbconvert_exporter": "python",
   "pygments_lexer": "ipython3",
   "version": "3.11.4"
  }
 },
 "nbformat": 4,
 "nbformat_minor": 2
}
