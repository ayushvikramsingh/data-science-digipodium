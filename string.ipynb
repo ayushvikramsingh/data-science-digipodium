{
 "cells": [
  {
   "cell_type": "markdown",
   "metadata": {},
   "source": [
    "* indexing\n",
    "* slicing\n",
    "* methods\n",
    "* operation\n"
   ]
  },
  {
   "cell_type": "code",
   "execution_count": 1,
   "metadata": {},
   "outputs": [],
   "source": [
    "name =\"shakesphere\"\n"
   ]
  },
  {
   "cell_type": "code",
   "execution_count": 3,
   "metadata": {},
   "outputs": [
    {
     "name": "stdout",
     "output_type": "stream",
     "text": [
      "s\n",
      "h\n",
      "a\n",
      "p\n"
     ]
    }
   ],
   "source": [
    "print(name[0])\n",
    "print(name[1])\n",
    "print(name[2])\n",
    "print(name[-5])"
   ]
  },
  {
   "cell_type": "code",
   "execution_count": 6,
   "metadata": {},
   "outputs": [
    {
     "name": "stdout",
     "output_type": "stream",
     "text": [
      "vijay\n",
      "vijay\n",
      "vijay\n",
      "deenanath\n",
      "deenanath chauhan\n",
      "chauhan\n",
      "han\n"
     ]
    }
   ],
   "source": [
    "name =\"vijay deenanath chauhan\"\n",
    "print(name[0]+name[1]+name[2]+name[3]+name[4])\n",
    "print(name[0:5])\n",
    "print(name[:5])\n",
    "print(name[6:15])\n",
    "print(name[6:])\n",
    "print(name[-7:])\n",
    "print(name[-3:])\n"
   ]
  },
  {
   "cell_type": "code",
   "execution_count": 15,
   "metadata": {},
   "outputs": [
    {
     "name": "stdout",
     "output_type": "stream",
     "text": [
      "vijay\n",
      "vijay\n",
      "vijay\n",
      "deenanath\n",
      "deenanath chauhan\n",
      "chauhan\n",
      "han\n",
      "deenanath\n",
      "htananeed\n",
      "nahuahc htananeed yajiv\n",
      "nhachaaedyjv\n",
      "vjydeaahcahn\n",
      "ia ennt hua\n"
     ]
    }
   ],
   "source": [
    "name =\"vijay deenanath chauhan\"\n",
    "print(name[0]+name[1]+name[2]+name[3]+name[4])\n",
    "print(name[0:5])\n",
    "print(name[:5])\n",
    "print(name[6:15])\n",
    "print(name[6:])\n",
    "print(name[-7:])\n",
    "print(name[-3:])\n",
    "print(name[6:-8])\n",
    "print(name[-9:5:-1])\n",
    "print(name[::-1])\n",
    "print(name[::-2])\n",
    "print(name[::2])\n",
    "print(name[1::2])\n",
    "\n",
    "\n",
    "\n",
    "\n"
   ]
  },
  {
   "cell_type": "markdown",
   "metadata": {},
   "source": [
    "name= \"william shakesphere\" slice the following word from name variable\n",
    "* william\n",
    "* shake\n",
    "* pear\n",
    "* spear\n",
    "* liam\n",
    "* are\n",
    "\n"
   ]
  },
  {
   "cell_type": "code",
   "execution_count": 21,
   "metadata": {},
   "outputs": [
    {
     "name": "stdout",
     "output_type": "stream",
     "text": [
      "william\n",
      "shake\n"
     ]
    }
   ],
   "source": [
    "name = \"william shakesphere\"\n",
    "print(name[0:7])\n",
    "print(name[8:13])\n",
    "\n"
   ]
  },
  {
   "cell_type": "markdown",
   "metadata": {},
   "source": [
    "* method in string \n",
    "- formating \n",
    "  - lower()\n",
    "  - upper()\n",
    "  - cpatialize()\n",
    "- validation \n",
    "  - is lower()\n",
    "  - isnupper()\n",
    "  - end switch()\n",
    "- utility\n",
    "\n"
   ]
  },
  {
   "cell_type": "code",
   "execution_count": 22,
   "metadata": {},
   "outputs": [
    {
     "data": {
      "text/plain": [
       "'WILLIAM SHAKESPHERE'"
      ]
     },
     "execution_count": 22,
     "metadata": {},
     "output_type": "execute_result"
    }
   ],
   "source": [
    "name.upper()"
   ]
  },
  {
   "cell_type": "code",
   "execution_count": 23,
   "metadata": {},
   "outputs": [
    {
     "name": "stdout",
     "output_type": "stream",
     "text": [
      "william shakesphere\n",
      "WILLIAM SHAKESPHERE\n"
     ]
    }
   ],
   "source": [
    "nameu = name.upper()\n",
    "print(name)\n",
    "print(nameu)\n"
   ]
  },
  {
   "cell_type": "code",
   "execution_count": 26,
   "metadata": {},
   "outputs": [
    {
     "name": "stdout",
     "output_type": "stream",
     "text": [
      "Vijay Deenanath CHAUHAN\n",
      "vijay deenanath chauhan\n",
      "Vijay deenanath chauhan\n",
      "Vijay Deenanath Chauhan\n",
      "vIJAY dEENANATH chauhan\n",
      "vijay deenanath chauhan\n"
     ]
    }
   ],
   "source": [
    "name = \"Vijay Deenanath CHAUHAN\"\n",
    "print(name)\n",
    "print(name.lower())\n",
    "print(name.capitalize())\n",
    "print(name.title())\n",
    "print(name.swapcase())\n",
    "print(name.casefold())"
   ]
  },
  {
   "cell_type": "code",
   "execution_count": 27,
   "metadata": {},
   "outputs": [
    {
     "name": "stdout",
     "output_type": "stream",
     "text": [
      "10 * 15.15 = 151.5\n",
      "10 * 15.15 = 151.5\n"
     ]
    }
   ],
   "source": [
    "x = 10\n",
    "y = 15.15\n",
    "z = x*y\n",
    "print(\"{} * {} = {}\".format(x,y,z))\n",
    "print(f'{x} * {y} = {z}')\n"
   ]
  },
  {
   "cell_type": "code",
   "execution_count": 30,
   "metadata": {},
   "outputs": [
    {
     "name": "stdout",
     "output_type": "stream",
     "text": [
      "upper : False\n",
      "lower : True\n",
      "title : False\n",
      "alphabets : False\n",
      "alphabets+number : True\n",
      "numeric : False\n"
     ]
    }
   ],
   "source": [
    "a = input(\"enter any value\")\n",
    "print(f\"upper : {a.isupper()}\")\n",
    "print(f\"lower : {a.islower()}\")\n",
    "print(f\"title : {a.istitle()}\")\n",
    "print(f\"alphabets : {a.isalpha()}\")\n",
    "print(f\"alphabets+number : {a.isalnum()}\")\n",
    "print(f\"numeric : {a.isnumeric()}\")\n"
   ]
  },
  {
   "cell_type": "code",
   "execution_count": null,
   "metadata": {},
   "outputs": [],
   "source": [
    "a = input(\"enter any number\")\n",
    "if num is.numeric()\n"
   ]
  },
  {
   "cell_type": "code",
   "execution_count": 1,
   "metadata": {},
   "outputs": [],
   "source": [
    "ex = \"Samurai\"\n",
    "i = -1\n",
    "while i >= len(ex):\n",
    "    print(ex[i],end=\" \")\n",
    "    i -= 1\n",
    "    \n"
   ]
  }
 ],
 "metadata": {
  "kernelspec": {
   "display_name": "base",
   "language": "python",
   "name": "python3"
  },
  "language_info": {
   "codemirror_mode": {
    "name": "ipython",
    "version": 3
   },
   "file_extension": ".py",
   "mimetype": "text/x-python",
   "name": "python",
   "nbconvert_exporter": "python",
   "pygments_lexer": "ipython3",
   "version": "3.11.4"
  }
 },
 "nbformat": 4,
 "nbformat_minor": 2
}
