{
 "cells": [
  {
   "cell_type": "code",
   "execution_count": 1,
   "metadata": {},
   "outputs": [],
   "source": [
    "name = 'alxender'\n",
    "age = 23\n"
   ]
  },
  {
   "cell_type": "code",
   "execution_count": 2,
   "metadata": {},
   "outputs": [
    {
     "name": "stdout",
     "output_type": "stream",
     "text": [
      "alxender\n",
      "23\n"
     ]
    }
   ],
   "source": [
    "print(name)\n",
    "print(age)\n"
   ]
  },
  {
   "cell_type": "code",
   "execution_count": 8,
   "metadata": {},
   "outputs": [
    {
     "ename": "NameError",
     "evalue": "name 'name' is not defined",
     "output_type": "error",
     "traceback": [
      "\u001b[1;31m---------------------------------------------------------------------------\u001b[0m",
      "\u001b[1;31mNameError\u001b[0m                                 Traceback (most recent call last)",
      "\u001b[1;32mc:\\Users\\ayush\\Documents\\data science digipodium\\io.ipynb Cell 3\u001b[0m line \u001b[0;36m1\n\u001b[1;32m----> <a href='vscode-notebook-cell:/c%3A/Users/ayush/Documents/data%20science%20digipodium/io.ipynb#W2sZmlsZQ%3D%3D?line=0'>1</a>\u001b[0m \u001b[39mprint\u001b[39m(name,age)\n",
      "\u001b[1;31mNameError\u001b[0m: name 'name' is not defined"
     ]
    }
   ],
   "source": [
    "print(name,age) \n",
    "\n",
    "\n"
   ]
  },
  {
   "cell_type": "code",
   "execution_count": 4,
   "metadata": {},
   "outputs": [
    {
     "name": "stdout",
     "output_type": "stream",
     "text": [
      "your name is alxender\n",
      "your age  23 year old\n"
     ]
    }
   ],
   "source": [
    "print('your name is',name)\n",
    "print('your age ', age,'year old')"
   ]
  },
  {
   "cell_type": "code",
   "execution_count": 6,
   "metadata": {},
   "outputs": [
    {
     "name": "stdout",
     "output_type": "stream",
     "text": [
      "aman ayush krishna kratagya\n"
     ]
    }
   ],
   "source": [
    "print(\"aman\" , \"ayush\" , \"krishna\" ,\"kratagya\")\n"
   ]
  },
  {
   "cell_type": "code",
   "execution_count": 7,
   "metadata": {},
   "outputs": [
    {
     "name": "stdout",
     "output_type": "stream",
     "text": [
      "aman\n",
      "ayush\n",
      "krishna\n",
      "kratagya\n"
     ]
    }
   ],
   "source": [
    "print(\"aman\\nayush\\nkrishna\\nkratagya\")"
   ]
  },
  {
   "cell_type": "code",
   "execution_count": 8,
   "metadata": {},
   "outputs": [
    {
     "name": "stdout",
     "output_type": "stream",
     "text": [
      "aman\n",
      "ayush\n",
      "krishna\n",
      "kratagya\n"
     ]
    }
   ],
   "source": [
    "print(\"aman\" , \"ayush\" , \"krishna\" ,\"kratagya\",sep=\"\\n\")\n",
    "\n",
    "\n"
   ]
  },
  {
   "cell_type": "code",
   "execution_count": 13,
   "metadata": {},
   "outputs": [
    {
     "name": "stdout",
     "output_type": "stream",
     "text": [
      "aman aur ayush aur krishna aur kratagya\n"
     ]
    }
   ],
   "source": [
    "print(\"aman\",\"ayush\",\"krishna\",\"kratagya\",sep = \" aur \")\n"
   ]
  },
  {
   "cell_type": "code",
   "execution_count": 14,
   "metadata": {},
   "outputs": [
    {
     "name": "stdout",
     "output_type": "stream",
     "text": [
      "1\n",
      "2\n",
      "3\n"
     ]
    }
   ],
   "source": [
    "print(1)\n",
    "print(2)\n",
    "print(3)\n"
   ]
  },
  {
   "cell_type": "code",
   "execution_count": 15,
   "metadata": {},
   "outputs": [
    {
     "name": "stdout",
     "output_type": "stream",
     "text": [
      "1 2\n",
      "3\n"
     ]
    }
   ],
   "source": [
    "print(1, end=\" \")\n",
    "print(2)\n",
    "print(3)"
   ]
  },
  {
   "cell_type": "markdown",
   "metadata": {},
   "source": [
    "f-string=formatted string liberal"
   ]
  },
  {
   "cell_type": "code",
   "execution_count": 16,
   "metadata": {},
   "outputs": [
    {
     "name": "stdout",
     "output_type": "stream",
     "text": [
      "5 + 10 = 15\n"
     ]
    }
   ],
   "source": [
    "x = 5\n",
    "y = 10\n",
    "z = 20\n",
    "print(x,'+',y,'=',x+y)"
   ]
  },
  {
   "cell_type": "code",
   "execution_count": 17,
   "metadata": {},
   "outputs": [
    {
     "name": "stdout",
     "output_type": "stream",
     "text": [
      "5 + 10 = 15\n"
     ]
    }
   ],
   "source": [
    "print(f'{x} + {y} = {x+y}')\n"
   ]
  },
  {
   "cell_type": "code",
   "execution_count": 22,
   "metadata": {},
   "outputs": [
    {
     "name": "stdout",
     "output_type": "stream",
     "text": [
      "ayush has 5 cahrs\n",
      "saurabh has 7 cahrs\n"
     ]
    }
   ],
   "source": [
    "p1 = 'ayush'\n",
    "p2 = 'saurabh'\n",
    "print(f\"{p1} has {len(p1)} cahrs\")\n",
    "print(f\"{p2} has {len(p2)} cahrs\")\n"
   ]
  },
  {
   "cell_type": "code",
   "execution_count": 25,
   "metadata": {},
   "outputs": [
    {
     "name": "stdout",
     "output_type": "stream",
     "text": [
      "ayush      = 5 cahrs\n",
      "saurabh    = 7 cahrs\n",
      "sam        = 3 cahrs\n"
     ]
    }
   ],
   "source": [
    "p3 = 'sam'\n",
    "print(f\"{p1:10} = {len(p1)} cahrs\")\n",
    "print(f\"{p2:10} = {len(p2)} cahrs\")\n",
    "print(f\"{p3:10} = {len(p3)} cahrs\")"
   ]
  },
  {
   "cell_type": "code",
   "execution_count": 26,
   "metadata": {},
   "outputs": [
    {
     "name": "stdout",
     "output_type": "stream",
     "text": [
      "     ayush = 5 cahrs\n",
      "   saurabh = 7 cahrs\n",
      "       sam = 3 cahrs\n"
     ]
    }
   ],
   "source": [
    "print(f\"{p1:>10} = {len(p1)} cahrs\")\n",
    "print(f\"{p2:>10} = {len(p2)} cahrs\")\n",
    "print(f\"{p3:>10} = {len(p3)} cahrs\")"
   ]
  },
  {
   "cell_type": "code",
   "execution_count": 27,
   "metadata": {},
   "outputs": [
    {
     "name": "stdout",
     "output_type": "stream",
     "text": [
      "  ayush    = 5 cahrs\n",
      " saurabh   = 7 cahrs\n",
      "   sam     = 3 cahrs\n"
     ]
    }
   ],
   "source": [
    "print(f\"{p1:^10} = {len(p1)} cahrs\")\n",
    "print(f\"{p2:^10} = {len(p2)} cahrs\")\n",
    "print(f\"{p3:^10} = {len(p3)} cahrs\")"
   ]
  },
  {
   "cell_type": "code",
   "execution_count": 34,
   "metadata": {},
   "outputs": [
    {
     "name": "stdout",
     "output_type": "stream",
     "text": [
      "the value of pi is 3.142857142857143\n",
      "the value of pi is 3.14\n",
      "the value of pi is 3.14286\n",
      "😊😊😊😊😊😊\n"
     ]
    }
   ],
   "source": [
    "pi = 22/7\n",
    "print(f'the value of pi is {pi}')\n",
    "print(f'the value of pi is {pi:.2f}')\n",
    "print(f'the value of pi is {pi:.5f}')\n",
    "print('😊😊😊😊😊😊')\n"
   ]
  },
  {
   "cell_type": "code",
   "execution_count": 38,
   "metadata": {},
   "outputs": [],
   "source": [
    "city = input(\"which city do you live in?\")\n"
   ]
  },
  {
   "cell_type": "code",
   "execution_count": 39,
   "metadata": {},
   "outputs": [
    {
     "name": "stdout",
     "output_type": "stream",
     "text": [
      " I live In lucknow \n"
     ]
    }
   ],
   "source": [
    "print(f\" I live In {city} \")"
   ]
  },
  {
   "cell_type": "markdown",
   "metadata": {},
   "source": [
    "Type casting"
   ]
  },
  {
   "cell_type": "code",
   "execution_count": 40,
   "metadata": {},
   "outputs": [
    {
     "name": "stdout",
     "output_type": "stream",
     "text": [
      "<class 'int'>\n",
      "True <class 'bool'>\n"
     ]
    }
   ],
   "source": [
    "a = 10\n",
    "print(type(a))\n",
    "a = bool(a)\n",
    "print(a,type(a))\n"
   ]
  },
  {
   "cell_type": "code",
   "execution_count": 41,
   "metadata": {},
   "outputs": [
    {
     "name": "stdout",
     "output_type": "stream",
     "text": [
      "<class 'str'>\n",
      "100001 <class 'int'>\n"
     ]
    }
   ],
   "source": [
    "a = \"100001\"\n",
    "print(type(a)) \n",
    "a = int(a)\n",
    "print(a, type(a))\n"
   ]
  },
  {
   "cell_type": "code",
   "execution_count": 42,
   "metadata": {},
   "outputs": [
    {
     "name": "stdout",
     "output_type": "stream",
     "text": [
      "3 <class 'int'>\n",
      "3.0 <class 'float'>\n"
     ]
    }
   ],
   "source": [
    "pi = int(pi)\n",
    "print(pi,type(pi))\n",
    "pi = float(pi)\n",
    "print(pi, type(pi))"
   ]
  },
  {
   "cell_type": "code",
   "execution_count": 45,
   "metadata": {},
   "outputs": [
    {
     "name": "stdout",
     "output_type": "stream",
     "text": [
      "4\n"
     ]
    }
   ],
   "source": [
    "a = int(input('enter the no.'))\n",
    "b = int(input('enter the no.'))\n",
    "print(a**b)"
   ]
  },
  {
   "cell_type": "code",
   "execution_count": null,
   "metadata": {},
   "outputs": [],
   "source": []
  },
  {
   "cell_type": "code",
   "execution_count": null,
   "metadata": {},
   "outputs": [],
   "source": []
  }
 ],
 "metadata": {
  "kernelspec": {
   "display_name": "base",
   "language": "python",
   "name": "python3"
  },
  "language_info": {
   "codemirror_mode": {
    "name": "ipython",
    "version": 3
   },
   "file_extension": ".py",
   "mimetype": "text/x-python",
   "name": "python",
   "nbconvert_exporter": "python",
   "pygments_lexer": "ipython3",
   "version": "3.11.4"
  }
 },
 "nbformat": 4,
 "nbformat_minor": 2
}
